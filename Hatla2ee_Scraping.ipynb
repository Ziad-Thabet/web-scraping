{
  "cells": [
    {
      "cell_type": "code",
      "execution_count": 2,
      "metadata": {
        "colab": {
          "base_uri": "https://localhost:8080/"
        },
        "id": "Zb_dnSPLOBWC",
        "outputId": "e61389ee-12a1-44e6-bdc9-e60b7c635412"
      },
      "outputs": [
        {
          "name": "stdout",
          "output_type": "stream",
          "text": [
            "Data saved to car_data.csv.\n"
          ]
        }
      ],
      "source": [
        "import csv\n",
        "import requests\n",
        "from bs4 import BeautifulSoup\n",
        "\n",
        "scraped_data = []\n",
        "\n",
        "for i in range(1, 501):\n",
        "    base_url = \"https://eg.hatla2ee.com/en/car/page/\" + str(i)\n",
        "    headers = {'User-Agent': 'Mozilla/5.0 (Windows NT 11.0; Win64; x64) AppleWebKit/537.36 (KHTML, like Gecko) Chrome/112.0.5615.139 Safari/537.36'}\n",
        "    r = requests.get(base_url, headers=headers)\n",
        "    soup = BeautifulSoup(r.text, 'html.parser')\n",
        "    products = soup.find_all('div', {'class': 'newCarListUnit_contain'})\n",
        "\n",
        "    page = str(i)\n",
        "    for product in products:\n",
        "        price = product.find('div', {'class': 'main_price'}).text\n",
        "        name = product.find('div', {'class': 'newCarListUnit_header'}).text\n",
        "        color = product.find('span', {'class': 'newCarListUnit_metaTag mob_hidden'}).text\n",
        "        company_name = product.find('span', {'class': 'newCarListUnit_metaLink'}).text\n",
        "        img = product.find('img', {'class': 'lazy'})['data-original']\n",
        "\n",
        "        scraped_data.append([page, price, name, color, company_name, img])\n",
        "\n",
        "filename = 'car_data.csv'\n",
        "headers = ['Page', 'Price', 'Name', 'Color', 'Company Name', 'Image URL']\n",
        "\n",
        "with open(filename, 'w', newline='', encoding='utf-8') as file:\n",
        "    writer = csv.writer(file)\n",
        "    writer.writerow(headers)\n",
        "    writer.writerows(scraped_data)\n",
        "\n",
        "print(f'Data saved to {filename}.')\n"
      ]
    },
    {
      "cell_type": "code",
      "execution_count": null,
      "metadata": {},
      "outputs": [],
      "source": []
    }
  ],
  "metadata": {
    "colab": {
      "provenance": []
    },
    "kernelspec": {
      "display_name": "Python 3",
      "name": "python3"
    },
    "language_info": {
      "codemirror_mode": {
        "name": "ipython",
        "version": 3
      },
      "file_extension": ".py",
      "mimetype": "text/x-python",
      "name": "python",
      "nbconvert_exporter": "python",
      "pygments_lexer": "ipython3",
      "version": "3.11.3"
    }
  },
  "nbformat": 4,
  "nbformat_minor": 0
}
